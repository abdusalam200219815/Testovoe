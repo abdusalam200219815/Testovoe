{
  "metadata": {
    "kernelspec": {
      "name": "python",
      "display_name": "Python (Pyodide)",
      "language": "python"
    },
    "language_info": {
      "codemirror_mode": {
        "name": "python",
        "version": 3
      },
      "file_extension": ".py",
      "mimetype": "text/x-python",
      "name": "python",
      "nbconvert_exporter": "python",
      "pygments_lexer": "ipython3",
      "version": "3.8"
    }
  },
  "nbformat_minor": 5,
  "nbformat": 4,
  "cells": [
    {
      "id": "0d5d44bf-639c-44af-8413-63bf6d4d328d",
      "cell_type": "markdown",
      "source": "###### Data Science Tools and Ecosystem",
      "metadata": {}
    },
    {
      "id": "b573a7f7-14af-4c7c-8148-fed28ace0488",
      "cell_type": "markdown",
      "source": "В этом блокноте представлены инструменты и экосистема Data Science",
      "metadata": {}
    },
    {
      "id": "b1787da1-a763-4234-8f73-56994e4b1228",
      "cell_type": "markdown",
      "source": "**goals**\n-  Python\n- R\n- C++\n- Java",
      "metadata": {}
    },
    {
      "id": "5829a777-f128-44ed-9884-a3bf2148238c",
      "cell_type": "markdown",
      "source": "Some of the popular languages used by Data Scientists:\n1. Python\n3. R\n4. C++\n5. Java",
      "metadata": {}
    },
    {
      "id": "5c629291-3d98-49b8-9a32-171908a2799a",
      "cell_type": "markdown",
      "source": "Some of the commonly used libraries that Data Scientists use include:\n1. NumPy\n2. Pandas\n3. Seaborn",
      "metadata": {}
    },
    {
      "id": "f9aff754-42c2-4ec7-8cd2-cc5088003c0b",
      "cell_type": "markdown",
      "source": "|Data Science Tools|\n|-|\n|Pandas| \n|Dask|\n|Statsmodels|\n",
      "metadata": {}
    },
    {
      "id": "abeba2e4-fd69-4205-aa0d-76c2f15421e7",
      "cell_type": "markdown",
      "source": "### Below are some examples of evaluating arithmetic expressions in Python:",
      "metadata": {}
    },
    {
      "id": "8f8ba674-580a-4b22-841c-49d8dfd6500f",
      "cell_type": "code",
      "source": "1+1",
      "metadata": {
        "trusted": true
      },
      "outputs": [
        {
          "execution_count": 6,
          "output_type": "execute_result",
          "data": {
            "text/plain": "2"
          },
          "metadata": {}
        }
      ],
      "execution_count": 6
    },
    {
      "id": "236e5e92-abc2-491a-9a50-cecef65c65b4",
      "cell_type": "code",
      "source": "3.2*10.9",
      "metadata": {
        "trusted": true
      },
      "outputs": [
        {
          "execution_count": 7,
          "output_type": "execute_result",
          "data": {
            "text/plain": "34.88"
          },
          "metadata": {}
        }
      ],
      "execution_count": 7
    },
    {
      "id": "ecd9e5e6-18af-45b2-a9e5-054f0cce3a69",
      "cell_type": "code",
      "source": "15.12/3",
      "metadata": {
        "trusted": true
      },
      "outputs": [
        {
          "execution_count": 8,
          "output_type": "execute_result",
          "data": {
            "text/plain": "5.04"
          },
          "metadata": {}
        }
      ],
      "execution_count": 8
    },
    {
      "id": "82fb6f53-6248-4ca3-a217-10626a1ea1a8",
      "cell_type": "code",
      "source": "",
      "metadata": {
        "trusted": true
      },
      "outputs": [],
      "execution_count": null
    },
    {
      "id": "8c649523-621e-45fa-bccc-b335d38cc6a1",
      "cell_type": "code",
      "source": "#This is a simple arithmetic expression for multiplying and then adding integers.\n(3*4)+5",
      "metadata": {
        "trusted": true
      },
      "outputs": [
        {
          "execution_count": 15,
          "output_type": "execute_result",
          "data": {
            "text/plain": "17"
          },
          "metadata": {}
        }
      ],
      "execution_count": 15
    },
    {
      "id": "66febb3a-1511-4a1f-a3f3-4df6b05e8246",
      "cell_type": "code",
      "source": "#This is the code cell that converts minutes to hours (200 minutes):\n200/60",
      "metadata": {
        "trusted": true
      },
      "outputs": [
        {
          "execution_count": 16,
          "output_type": "execute_result",
          "data": {
            "text/plain": "3.3333333333333335"
          },
          "metadata": {}
        }
      ],
      "execution_count": 16
    },
    {
      "id": "5c74ab89-5e74-4763-9f04-218fb6464238",
      "cell_type": "markdown",
      "source": "## Author: \nSharipov Denis",
      "metadata": {}
    },
    {
      "id": "b749e74f-99c7-41a9-bbac-a3b4e1cb13e2",
      "cell_type": "code",
      "source": "",
      "metadata": {
        "trusted": true
      },
      "outputs": [],
      "execution_count": null
    }
  ]
}